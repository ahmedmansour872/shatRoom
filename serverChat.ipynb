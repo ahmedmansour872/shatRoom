{
 "cells": [
  {
   "cell_type": "code",
   "execution_count": null,
   "metadata": {},
   "outputs": [
    {
     "name": "stdout",
     "output_type": "stream",
     "text": [
      "server is working on 127.0.1.1\n",
      "Name is :ahmed: \n",
      "new connection ('127.0.0.1', 34014)\n",
      "active connections 5\n",
      "Name is :mohamed: \n",
      "new connection ('127.0.0.1', 34066)\n",
      "active connections 6\n"
     ]
    }
   ],
   "source": [
    "import socket\n",
    "import threading\n",
    "\n",
    "PORT = 6000\n",
    "SERVER = socket.gethostbyname(socket.gethostname())\n",
    "FORMAT = \"utf-8\"\n",
    "clients, names = [], []\n",
    "server = socket.socket(socket.AF_INET, socket.SOCK_STREAM)\n",
    "server.bind((SERVER, PORT))\n",
    "\n",
    "def startChatRoom():\n",
    "\n",
    "    print(\"server is working on \" + SERVER) \n",
    "    server.listen() \n",
    "    while True: \n",
    "        conn, addr = server.accept()\n",
    "        conn.send(\"NAME\".encode(FORMAT))\n",
    "        name = conn.recv(1024).decode(FORMAT)\n",
    "        names.append(name)\n",
    "        clients.append(conn)\n",
    "        print(f\"Name is :{name}\")\n",
    "        broadcastMessage(f\"{name} has joined the chat!\".encode(FORMAT))\n",
    "        conn.send('Connection successful!'.encode(FORMAT))\n",
    "        thread = threading.Thread(target = handleConnection, args = (conn, addr))\n",
    "        thread.start()\n",
    "        print(f\"active connections {threading.activeCount()-1}\")\n",
    "\n",
    "def handleConnection(conn, addr):\n",
    "\n",
    "    print(f\"new connection {addr}\")\n",
    "    connected = True\n",
    "    while connected:\n",
    "        message = conn.recv(1024)\n",
    "        broadcastMessage(message)\n",
    "    conn.close()\n",
    "\n",
    "def broadcastMessage(message):\n",
    "    for client in clients:\n",
    "        client.send(message)\n",
    "startChatRoom()"
   ]
  },
  {
   "cell_type": "code",
   "execution_count": null,
   "metadata": {},
   "outputs": [],
   "source": []
  },
  {
   "cell_type": "code",
   "execution_count": null,
   "metadata": {},
   "outputs": [],
   "source": []
  }
 ],
 "metadata": {
  "kernelspec": {
   "display_name": "Python 3",
   "language": "python",
   "name": "python3"
  },
  "language_info": {
   "codemirror_mode": {
    "name": "ipython",
    "version": 3
   },
   "file_extension": ".py",
   "mimetype": "text/x-python",
   "name": "python",
   "nbconvert_exporter": "python",
   "pygments_lexer": "ipython3",
   "version": "3.7.4"
  }
 },
 "nbformat": 4,
 "nbformat_minor": 2
}
